
possible_words = ["code"]

correctly_guessed_letters = []
correctly_guessed_letters_show = = ["_ _ _ _"]
bad_guessed_letters = []

wrongly_guessed_letters = []

lives = 5

error_count = 0

turn_count = 0

def start_game():
    pass
    


class Hangman():
    pass

# def play():

#     print(int("U have to guess a word letter by letter, pls enter ur guess letter : " ))
#     letter = input
for letter in possible_words:
    if letter in possible_words:
        print(f"You guessed a Letter {letter}")
        print(correctly_guessed_letters.replace(letter,"_"))
        
    elif letter in correctly_guessed_letters:
        print(f"The letter {letter} is already guessed, please enter another letter ")

    elif letter not in possible_words.strip():
        print(f'The letter {letter} is not in the word')


    else:
        print("only string are allowed")








def game_over():
    pass
#if `lives` is equal to 0.
#method that will stop the game and print `game over...


    def well_played():
        pass
    #if all the letter are guessed.
    #method that will print `You found the word: {word_to_find_here} in {turn_count_here} turns with {error_count_here} errors!`.


    

